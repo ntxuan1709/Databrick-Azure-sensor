{
 "cells": [
  {
   "cell_type": "code",
   "execution_count": 0,
   "metadata": {
    "application/vnd.databricks.v1+cell": {
     "cellMetadata": {
      "byteLimit": 2048000,
      "rowLimit": 10000
     },
     "inputWidgets": {},
     "nuid": "7a6b97f3-7276-4843-a289-fd49c5f42814",
     "showTitle": false,
     "title": ""
    }
   },
   "outputs": [],
   "source": [
    "from pyspark.sql import SparkSession\n",
    "from pyspark.sql.functions import avg\n",
    "import json\n",
    "from azure.storage.blob import BlobServiceClient\n"
   ]
  },
  {
   "cell_type": "code",
   "execution_count": 0,
   "metadata": {
    "application/vnd.databricks.v1+cell": {
     "cellMetadata": {
      "byteLimit": 2048000,
      "rowLimit": 10000
     },
     "inputWidgets": {},
     "nuid": "d7486b2a-c9b0-4330-b8ae-747da241615e",
     "showTitle": false,
     "title": ""
    }
   },
   "outputs": [],
   "source": [
    "# Initialize Spark session\n",
    "spark = SparkSession.builder.appName(\"IoTSensor\").getOrCreate()\n",
    "\n",
    "# Azure Blob Storage configuration\n",
    "storage_account_name = \"datastorage4zims\"\n",
    "storage_account_key = \"RZswKvPTf1D45dEOu1mBDMi206vsDxw0eGRvgT9/kwfTSLoNFx+jMa36pwumSubp7J0Z0Wa/no/i+ASt83SUGQ==\"\n",
    "connection_string = (f\"DefaultEndpointsProtocol=https;\"\n",
    "                     f\"AccountName={storage_account_name};\"\n",
    "                     f\"AccountKey={storage_account_key};\"\n",
    "                     f\"EndpointSuffix=core.windows.net\")\n",
    "container_name = \"sensor-data\"\n",
    "output_container_name = \"sensorinsights\"\n",
    "\n",
    "# Set Spark configuration for Azure Blob Storage access\n",
    "spark.conf.set(f\"fs.azure.account.key.{storage_account_name}.blob.core.windows.net\", storage_account_key)\n",
    "\n",
    "# Initialize BlobServiceClient\n",
    "blob_service_client = BlobServiceClient.from_connection_string(connection_string)\n",
    "\n"
   ]
  },
  {
   "cell_type": "code",
   "execution_count": 0,
   "metadata": {
    "application/vnd.databricks.v1+cell": {
     "cellMetadata": {
      "byteLimit": 2048000,
      "rowLimit": 10000
     },
     "inputWidgets": {},
     "nuid": "231ef7b1-ac28-47fe-b718-e4e313d70ea4",
     "showTitle": false,
     "title": ""
    }
   },
   "outputs": [],
   "source": [
    "# Function to list files in a container\n",
    "def list_files(container_name):\n",
    "    return blob_service_client.get_container_client(container_name).list_blobs()\n",
    "\n",
    "# Function to load data from a file path\n",
    "def load_data(file_path):\n",
    "    df = spark.read.format(\"csv\").option(\"header\", \"true\").load(file_path)\n",
    "    df.printSchema()  # Check the schema to confirm the data structure\n",
    "    return df\n",
    "\n",
    "# Function to cast all columns except 'sensor_id', 'timestamp', 'location' to numeric and calculate averages\n",
    "def aggregate_metrics(df):\n",
    "    # Identify columns to average, ignoring 'sensor_id', 'timestamp', and 'location'\n",
    "    numeric_columns = [col for col, dtype in df.dtypes \n",
    "                       if col not in (\"sensor_id\", \"timestamp\", \"location\")]\n",
    "\n",
    "    # Cast selected columns to numeric type and calculate averages\n",
    "    for col in numeric_columns:\n",
    "        df = df.withColumn(col, df[col].cast(\"float\"))\n",
    "    \n",
    "    # Prepare aggregation for numeric columns only\n",
    "    avg_columns = [avg(col).alias(f\"avg_{col}\") for col in numeric_columns]\n",
    "\n",
    "    # Group by 'location' and 'timestamp' and calculate averages\n",
    "    aggregated_df = df.groupBy(\"location\", \"timestamp\").agg(*avg_columns)\n",
    "    \n",
    "    # Ensure 'sensor_id', 'timestamp', and 'location' are retained\n",
    "    final_df = aggregated_df.select(\"location\", \"timestamp\", *[f\"avg_{col}\" for col in numeric_columns])\n",
    "    final_df.show(5)  # Show sample output for verification\n",
    "    return final_df\n",
    "\n",
    "# Function to save data to Azure Blob Storage\n",
    "def save_to_blob(data, blob_name):\n",
    "    json_data = [json.loads(item) for item in data]\n",
    "    blob_client = blob_service_client.get_blob_client(container=output_container_name, blob=blob_name)\n",
    "    blob_client.upload_blob(json.dumps(json_data, indent=2), overwrite=True)"
   ]
  },
  {
   "cell_type": "code",
   "execution_count": 0,
   "metadata": {
    "application/vnd.databricks.v1+cell": {
     "cellMetadata": {
      "byteLimit": 2048000,
      "rowLimit": 10000
     },
     "inputWidgets": {},
     "nuid": "64600898-c098-451a-a9cd-5ef14e1e93c3",
     "showTitle": false,
     "title": ""
    }
   },
   "outputs": [
    {
     "output_type": "stream",
     "name": "stdout",
     "output_type": "stream",
     "text": [
      "root\n |-- sensor_id: string (nullable = true)\n |-- timestamp: string (nullable = true)\n |-- location: string (nullable = true)\n |-- air_quality_index: string (nullable = true)\n |-- pm2_5: string (nullable = true)\n |-- pm10: string (nullable = true)\n\n+-------------+-------------------+---------------------+------------------+------------------+\n|     location|          timestamp|avg_air_quality_index|         avg_pm2_5|          avg_pm10|\n+-------------+-------------------+---------------------+------------------+------------------+\n|    Docklands|2024-09-01 02:00:00|                 58.0|15.300000190734863|30.200000762939453|\n|    Footscray|2024-09-01 04:00:00|                 90.0|              25.0|50.099998474121094|\n|      Fitzroy|2024-09-01 01:00:00|                 65.0|              18.0|              35.5|\n|Melbourne CBD|2024-09-01 00:00:00|                 45.0|              10.5|              25.0|\n|     St Kilda|2024-09-01 03:00:00|                 72.0|20.100000381469727|              40.0|\n+-------------+-------------------+---------------------+------------------+------------------+\n\nroot\n |-- sensor_id: string (nullable = true)\n |-- timestamp: string (nullable = true)\n |-- location: string (nullable = true)\n |-- energy_consumed_kwh: string (nullable = true)\n |-- peak_load_mw: string (nullable = true)\n\n+--------------------+-------------------+-----------------------+----------------+\n|            location|          timestamp|avg_energy_consumed_kwh|avg_peak_load_mw|\n+--------------------+-------------------+-----------------------+----------------+\n|Residential - Sou...|2024-09-01 00:00:00|                  200.0|            12.0|\n|            Essendon|2024-09-01 04:00:00|                  600.0|            25.0|\n|Commercial - Melb...|2024-09-01 01:00:00|                 1000.0|            35.0|\n|Industrial - Lave...|2024-09-01 02:00:00|                 1200.0|            50.0|\n|            Richmond|2024-09-01 03:00:00|                  500.0|            20.0|\n+--------------------+-------------------+-----------------------+----------------+\n\nroot\n |-- sensor_id: string (nullable = true)\n |-- timestamp: string (nullable = true)\n |-- location: string (nullable = true)\n |-- vehicle_count: string (nullable = true)\n |-- avg_speed_kmh: string (nullable = true)\n\n+-----------------+-------------------+-----------------+-----------------+\n|         location|          timestamp|avg_vehicle_count|avg_avg_speed_kmh|\n+-----------------+-------------------+-----------------+-----------------+\n|  Eastern Freeway|2024-09-01 00:00:00|           1000.0|             80.0|\n|West Gate Freeway|2024-09-01 02:00:00|           1200.0|             60.0|\n|    Melbourne CBD|2024-09-01 01:00:00|            800.0|             30.0|\n|    St Kilda Road|2024-09-01 03:00:00|            600.0|             50.0|\n|   Monash Freeway|2024-09-01 04:00:00|           1500.0|             70.0|\n+-----------------+-------------------+-----------------+-----------------+\n\nroot\n |-- sensor_id: string (nullable = true)\n |-- timestamp: string (nullable = true)\n |-- location: string (nullable = true)\n |-- air_quality_index: string (nullable = true)\n |-- pm2_5: string (nullable = true)\n |-- pm10: string (nullable = true)\n\n+-------------+-------------------+---------------------+------------------+------------------+\n|     location|          timestamp|avg_air_quality_index|         avg_pm2_5|          avg_pm10|\n+-------------+-------------------+---------------------+------------------+------------------+\n|    Docklands|2024-09-01 02:00:00|                 58.0|15.300000190734863|30.200000762939453|\n|    Footscray|2024-09-01 04:00:00|                 90.0|              25.0|50.099998474121094|\n|      Fitzroy|2024-09-01 01:00:00|                 65.0|              18.0|              35.5|\n|Melbourne CBD|2024-09-01 00:00:00|                 45.0|              10.5|              25.0|\n|     St Kilda|2024-09-01 03:00:00|                 72.0|20.100000381469727|              40.0|\n+-------------+-------------------+---------------------+------------------+------------------+\n\n"
     ]
    }
   ],
   "source": [
    "# Main processing logic\n",
    "for blob in list_files(container_name):\n",
    "    file_path = f\"wasbs://{container_name}@{storage_account_name}.blob.core.windows.net/{blob.name}\"\n",
    "    df = load_data(file_path)\n",
    "\n",
    "    # Check if 'location' and 'timestamp' exist for grouping\n",
    "    if \"location\" in df.columns and \"timestamp\" in df.columns:\n",
    "        metrics_df = aggregate_metrics(df)\n",
    "        if metrics_df is not None:\n",
    "            output_file = f\"avg_{blob.name.replace('.csv', '')}.json\"\n",
    "            save_to_blob(metrics_df.toJSON().collect(), output_file)\n",
    "        else:\n",
    "            print(f\"Skipping {blob.name} as no numeric columns were found.\")\n",
    "    else:\n",
    "        print(f\"Skipping {blob.name} as it does not contain 'location' and 'timestamp' columns.\")\n"
   ]
  }
 ],
 "metadata": {
  "application/vnd.databricks.v1+notebook": {
   "dashboards": [],
   "environmentMetadata": null,
   "language": "python",
   "notebookMetadata": {
    "pythonIndentUnit": 4
   },
   "notebookName": "21627683_Assm2",
   "widgets": {}
  }
 },
 "nbformat": 4,
 "nbformat_minor": 0
}
